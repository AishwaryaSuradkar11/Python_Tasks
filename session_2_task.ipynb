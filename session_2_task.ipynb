{
  "nbformat": 4,
  "nbformat_minor": 0,
  "metadata": {
    "colab": {
      "provenance": [],
      "include_colab_link": true
    },
    "kernelspec": {
      "name": "python3",
      "display_name": "Python 3"
    },
    "language_info": {
      "name": "python"
    }
  },
  "cells": [
    {
      "cell_type": "markdown",
      "metadata": {
        "id": "view-in-github",
        "colab_type": "text"
      },
      "source": [
        "<a href=\"https://colab.research.google.com/github/AishwaryaSuradkar11/Python_Tasks/blob/main/session_2_task.ipynb\" target=\"_parent\"><img src=\"https://colab.research.google.com/assets/colab-badge.svg\" alt=\"Open In Colab\"/></a>"
      ]
    },
    {
      "cell_type": "markdown",
      "source": [
        "### `Problem 1`: Write a program that will give you in hand monthly salary after deduction on CTC - HRA(10%), DA(5%), PF(3%) and taxes deduction as below:\n",
        "\n",
        "> Salary(Lakhs) : Tax(%)\n",
        "\n",
        "*   Below 5 : 0%\n",
        "*   5-10 : 10%\n",
        "*   10-20 : 20%\n",
        "*   aboove 20 : 30%"
      ],
      "metadata": {
        "id": "w6RlOAXV2PWh"
      }
    },
    {
      "cell_type": "code",
      "source": [
        "salary = float(input(\"Enter your salary: \"))\n",
        "\n",
        "HRA =0.1*salary\n",
        "DA = 0.05*salary\n",
        "PF = 0.03*salary\n",
        "salary = salary-HRA-DA-PF\n",
        "\n",
        "if salary < 500000:\n",
        "  print('Tax is 0')\n",
        "  Tax = salary*0\n",
        "  print('Your this month Salary is',salary-salary*0)\n",
        "elif salary >= 500000 and salary <=1000000:\n",
        "  print('Tax is 10%')\n",
        "  Tax = salary*0.1\n",
        "  salary = salary-salary*0.1\n",
        "  print(f\"Your salary is: ₹{salary:,}\")\n",
        "elif salary > 1000000 and salary <= 2000000:\n",
        "  print('Tax is 20%')\n",
        "  Tax = salary*0.2\n",
        "  print('Your this month Salary is',salary-salary*0.2)\n",
        "else:\n",
        "  print('Tax is 30%')\n",
        "  Tax = salary*0.3\n",
        "  print('Your this month Salary is',salary-salary*0.3)\n",
        "\n",
        ""
      ],
      "metadata": {
        "id": "EFPEQ-x-OH6l",
        "outputId": "90275856-ae39-401c-f355-fa196bd362ee",
        "colab": {
          "base_uri": "https://localhost:8080/"
        }
      },
      "execution_count": 4,
      "outputs": [
        {
          "output_type": "stream",
          "name": "stdout",
          "text": [
            "Enter your salary: 800000\n",
            "Tax is 10%\n",
            "Your salary is: ₹590,400.0\n"
          ]
        }
      ]
    },
    {
      "cell_type": "markdown",
      "source": [
        "\n",
        "\n",
        "### `Problem 2`: Write a program that take a user input of three angles and will find out whether it can form a triangle or not."
      ],
      "metadata": {
        "id": "tYzCGqwl2hfN"
      }
    },
    {
      "cell_type": "code",
      "source": [
        "a = int(input(\"Enter the First angle \"))\n",
        "b = int(input(\"Enter the Second angle \"))\n",
        "c = int(input(\"Enter the Third angle \"))\n",
        "\n",
        "if a+b+c == 180:\n",
        "  print(\"It can form a Triangle\")\n",
        "else:\n",
        "  print(\"It cannot form a Triangle\")"
      ],
      "metadata": {
        "id": "FYEqln-I2kxV",
        "outputId": "637aa889-6dfe-4b18-f908-76c006545682",
        "colab": {
          "base_uri": "https://localhost:8080/"
        }
      },
      "execution_count": 8,
      "outputs": [
        {
          "output_type": "stream",
          "name": "stdout",
          "text": [
            "Enter the First angle 100\n",
            "Enter the Second angle 40\n",
            "Enter the Third angle 40\n",
            "It can form a Triangle\n"
          ]
        }
      ]
    },
    {
      "cell_type": "markdown",
      "source": [
        "### `Problem 3`: Write a program that will take user input of cost price and selling price and determines whether its a loss or a profit."
      ],
      "metadata": {
        "id": "5vEpPh8C2pE4"
      }
    },
    {
      "cell_type": "code",
      "source": [
        "cost_price = float(input(\"Enter the cost price: \"))\n",
        "sale_price = float(input(\"Enter the selling price: \"))\n",
        "\n",
        "if sale_price>cost_price:\n",
        "  print(\"There is a Profit\")\n",
        "else:\n",
        "  print(\"There is a loss\")\n"
      ],
      "metadata": {
        "id": "jDwBXlkO2sfl",
        "outputId": "b652c4ed-bb19-4426-bd1e-b51d39f1f36d",
        "colab": {
          "base_uri": "https://localhost:8080/"
        }
      },
      "execution_count": 10,
      "outputs": [
        {
          "output_type": "stream",
          "name": "stdout",
          "text": [
            "Enter the cost price: 100\n",
            "Enter the selling price: 99\n",
            "There is a loss\n"
          ]
        }
      ]
    },
    {
      "cell_type": "markdown",
      "source": [
        "### `Problem 4`: Write a menu-driven program -\n",
        "1. cm to ft\n",
        "2. km to miles\n",
        "3. USD to INR\n",
        "4. exit"
      ],
      "metadata": {
        "id": "J_FG_cJW2ugT"
      }
    },
    {
      "cell_type": "code",
      "source": [
        "menu = input('''\n",
        " 1. Convert cm to ft\n",
        " 2. Convert km to miles\n",
        " 3. Convert USD to INR\n",
        " 4. Exit\n",
        "''')\n",
        "\n",
        "if menu == '1':\n",
        "  number = float(input(\"Enter the number\"))\n",
        "  number = number*0.0328084\n",
        "  number = round(number,4)\n",
        "  print(number)\n",
        "elif menu == '2':\n",
        "  number = float(input(\"Enter the number\"))\n",
        "  number = number*0.621371\n",
        "  number = round(number,4)\n",
        "  print(number)\n",
        "elif menu == '3':\n",
        "  number = float(input(\"Enter the number\"))\n",
        "  number = number*82.22\n",
        "  number = round(number,4)\n",
        "  print(number)\n",
        "else:\n",
        "  print(\"Exit\")"
      ],
      "metadata": {
        "id": "yBHhaCGQ2zpD",
        "outputId": "57dc02ae-bc9e-46ff-830e-1b4239fd1cc8",
        "colab": {
          "base_uri": "https://localhost:8080/"
        }
      },
      "execution_count": 13,
      "outputs": [
        {
          "output_type": "stream",
          "name": "stdout",
          "text": [
            "\n",
            " 1. Convert cm to ft\n",
            " 2. Convert km to miles\n",
            " 3. Convert USD to INR\n",
            " 4. Exit\n",
            "3\n",
            "Enter the number100\n",
            "8222.0\n"
          ]
        }
      ]
    },
    {
      "cell_type": "markdown",
      "source": [
        "### `Problem 5` - Exercise 12: Display Fibonacci series up to 10 terms.\n",
        "\n",
        "*Note: The Fibonacci Sequence is a series of numbers. The next number is found by adding up the two numbers before it. The first two numbers are 0 and 1. For example, 0, 1, 1, 2, 3, 5, 8, 13, 21. The next number in this series above is 13+21 = 34*"
      ],
      "metadata": {
        "id": "LJJ30_Yw27ZU"
      }
    },
    {
      "cell_type": "code",
      "source": [
        "number = int(input(\"Enter the number: \"))\n",
        "a = 0\n",
        "b = 1\n",
        "if a==0 and b==1:\n",
        "  print(a)\n",
        "  print(b)\n",
        "  for i in range(2,number):\n",
        "    c= a+b+i\n",
        "\n",
        "    print(c)"
      ],
      "metadata": {
        "id": "ae_1rpe52-5R",
        "outputId": "1a7a3cfe-d0b8-489b-ff7b-304f6c963ba9",
        "colab": {
          "base_uri": "https://localhost:8080/"
        }
      },
      "execution_count": 2,
      "outputs": [
        {
          "output_type": "stream",
          "name": "stdout",
          "text": [
            "Enter the number: 11\n",
            "0\n",
            "1\n",
            "3\n",
            "4\n",
            "5\n",
            "6\n",
            "7\n",
            "8\n",
            "9\n",
            "10\n",
            "11\n"
          ]
        }
      ]
    },
    {
      "cell_type": "markdown",
      "source": [
        "### `Problem 6` - Find the factorial of a given number.\n",
        "\n",
        "Write a program to use the loop to find the factorial of a given number.\n",
        "\n",
        "The factorial (symbol: `!`) means to multiply all whole numbers from the chosen number down to 1.\n",
        "\n",
        "For example: calculate the factorial of 5\n",
        "\n",
        "```bash\n",
        "5! = 5 × 4 × 3 × 2 × 1 = 120\n",
        "```\n",
        "\n",
        "Output:\n",
        "\n",
        "```bash\n",
        "120\n",
        "```"
      ],
      "metadata": {
        "id": "pk_I_S4m3PT5"
      }
    },
    {
      "cell_type": "code",
      "source": [
        "number = int(input(\"Enter the factorial number: \"))\n",
        "fact=1\n",
        "for i in range(1,number+1):\n",
        "  fact=fact*i\n",
        "  print(fact)"
      ],
      "metadata": {
        "id": "lzXxHegx3Rkc",
        "outputId": "2237595f-be03-445b-ba67-0f0a356f6d1f",
        "colab": {
          "base_uri": "https://localhost:8080/"
        }
      },
      "execution_count": 11,
      "outputs": [
        {
          "output_type": "stream",
          "name": "stdout",
          "text": [
            "Enter the factorial number: 5\n",
            "1\n",
            "2\n",
            "6\n",
            "24\n",
            "120\n"
          ]
        }
      ]
    },
    {
      "cell_type": "markdown",
      "source": [
        "### `Problem 7` - Reverse a given integer number.\n",
        "\n",
        "Example:\n",
        "\n",
        "`Input:`\n",
        "\n",
        "```bash\n",
        "76542\n",
        "```\n",
        "\n",
        "`Output:`\n",
        "\n",
        "```bash\n",
        "24567\n",
        "```"
      ],
      "metadata": {
        "id": "-17IOi-g3UpU"
      }
    },
    {
      "cell_type": "code",
      "source": [
        "# Write code here"
      ],
      "metadata": {
        "id": "wJwLpKCr3aVA"
      },
      "execution_count": null,
      "outputs": []
    },
    {
      "cell_type": "markdown",
      "source": [
        "### `Problem 8`: Take a user input as integer N. Find out the sum from 1 to N. If any number if divisible by 5, then skip that number. And if the sum is greater than 300, don't need to calculate the sum further more. Print the final result. And don't use for loop to solve this problem.\n",
        "\n",
        "**Example 1:**\n",
        "\n",
        "`Input:`\n",
        "\n",
        "```bash\n",
        "30\n",
        "```\n",
        "\n",
        "`Output:`\n",
        "\n",
        "```bash\n",
        "276\n",
        "```"
      ],
      "metadata": {
        "id": "-t8PJQaY3sHf"
      }
    },
    {
      "cell_type": "code",
      "source": [
        "# Write code here"
      ],
      "metadata": {
        "id": "GZB6mGMP3ujT"
      },
      "execution_count": null,
      "outputs": []
    },
    {
      "cell_type": "markdown",
      "source": [
        "### `Problem 9`: Write a program that keeps on accepting a number from the user until the user enters Zero. Display the sum and average of all the numbers."
      ],
      "metadata": {
        "id": "Q7ggImeA3xm4"
      }
    },
    {
      "cell_type": "code",
      "source": [
        "# Write code here"
      ],
      "metadata": {
        "id": "t_YDSZDe4Kdo"
      },
      "execution_count": null,
      "outputs": []
    },
    {
      "cell_type": "markdown",
      "source": [
        "###`Problem 9`: Write a program which will find all such numbers which are divisible by 7 but are not a multiple of 5, between 2000 and 3200 (both included). The numbers obtained should be printed in a comma-separated sequence on a single line."
      ],
      "metadata": {
        "id": "6EhvEMvm4R7s"
      }
    },
    {
      "cell_type": "code",
      "source": [
        "# Write code here"
      ],
      "metadata": {
        "id": "d6RgP1B34T6c"
      },
      "execution_count": null,
      "outputs": []
    },
    {
      "cell_type": "markdown",
      "source": [
        "###`Problem 10`: Write a program, which will find all such numbers between 1000 and 3000 (both included) such that each digit of the number is an even number. The numbers obtained should be printed in a space-separated sequence on a single line.\n",
        "\n"
      ],
      "metadata": {
        "id": "tYvmRR-G4Vp4"
      }
    },
    {
      "cell_type": "code",
      "source": [
        "# Write code here"
      ],
      "metadata": {
        "id": "k6Gs1kIf4k19"
      },
      "execution_count": null,
      "outputs": []
    },
    {
      "cell_type": "markdown",
      "source": [
        "###`Problem 11`: A robot moves in a plane starting from the original point (0,0). The robot can move toward UP, DOWN, LEFT and RIGHT with a given steps.\n",
        "The trace of robot movement is shown as the following:\n",
        "```\n",
        "UP 5\n",
        "DOWN 3\n",
        "LEFT 3\n",
        "RIGHT 2\n",
        "!\n",
        "```\n",
        "> The numbers after the direction are steps.\n",
        "\n",
        "> `!` means robot stop there.\n",
        "\n",
        "**Please write a program to compute the distance from current position after a sequence of movement and original point.**\n",
        "\n",
        "*If the distance is a float, then just print the nearest integer.*\n",
        "\n",
        "Example:\n",
        "\n",
        "`Input`:\n",
        "```\n",
        "UP 5\n",
        "DOWN 3\n",
        "LEFT 3\n",
        "RIGHT 2\n",
        "!\n",
        "```\n",
        "`Output`:\n",
        "```\n",
        "2\n",
        "```"
      ],
      "metadata": {
        "id": "GV18IINT4mf5"
      }
    },
    {
      "cell_type": "code",
      "source": [
        "# Write code here"
      ],
      "metadata": {
        "id": "6UNMC2aR4w5x"
      },
      "execution_count": null,
      "outputs": []
    },
    {
      "cell_type": "markdown",
      "source": [
        "###`Problem 12`:Write a program to print whether a given number is a prime number or not"
      ],
      "metadata": {
        "id": "3fsAIAhK5GYY"
      }
    },
    {
      "cell_type": "code",
      "source": [
        "# Write code here"
      ],
      "metadata": {
        "id": "j6y91lxy5LZs"
      },
      "execution_count": null,
      "outputs": []
    },
    {
      "cell_type": "markdown",
      "source": [
        "###`Problem 13`:Print all the Armstrong numbers in a given range.\n",
        "Range will be provided by the user<br>\n",
        "Armstrong number is a number that is equal to the sum of cubes of its digits. For example 0, 1, 153, 370, 371 and 407 are the Armstrong numbers."
      ],
      "metadata": {
        "id": "asAbmbK-5NHv"
      }
    },
    {
      "cell_type": "code",
      "source": [
        "# Write code here"
      ],
      "metadata": {
        "id": "PZuI67pm5jCT"
      },
      "execution_count": null,
      "outputs": []
    },
    {
      "cell_type": "markdown",
      "source": [
        "###`Problem 14`:Calculate the angle between the hour hand and minute hand.\n",
        "\n",
        "Note: There can be two angles between hands; we need to print a minimum of two. Also, we need to print the floor of the final result angle. For example, if the final angle is 10.61, we need to print 10.\n",
        "\n",
        "Input:<br>\n",
        "H = 9 , M = 0<br>\n",
        "Output:<br>\n",
        "90<br>\n",
        "Explanation:<br>\n",
        "The minimum angle between hour and minute\n",
        "hand when the time is 9 is 90 degress."
      ],
      "metadata": {
        "id": "ClCQZMqT7gK0"
      }
    },
    {
      "cell_type": "code",
      "source": [
        "# Write code here"
      ],
      "metadata": {
        "id": "tNBTCZML7jy_"
      },
      "execution_count": null,
      "outputs": []
    },
    {
      "cell_type": "markdown",
      "source": [
        "###`Problem 15`:Given two rectangles, find if the given two rectangles overlap or not. A rectangle is denoted by providing the x and y coordinates of two points: the left top corner and the right bottom corner of the rectangle. Two rectangles sharing a side are considered overlapping. (L1 and R1 are the extreme points of the first rectangle and L2 and R2 are the extreme points of the second rectangle).\n",
        "\n",
        "Note: It may be assumed that the rectangles are parallel to the coordinate axis.\n",
        "\n",
        "<img src='https://www.geeksforgeeks.org/wp-content/uploads/rectanglesOverlap.png' width='300' height='200'>"
      ],
      "metadata": {
        "id": "GwacF9Co72Qc"
      }
    },
    {
      "cell_type": "code",
      "source": [
        "# Write code here"
      ],
      "metadata": {
        "id": "6rrw_lpH78Rs"
      },
      "execution_count": 1,
      "outputs": []
    },
    {
      "cell_type": "code",
      "source": [],
      "metadata": {
        "id": "6sFPmnldGQSe"
      },
      "execution_count": null,
      "outputs": []
    },
    {
      "cell_type": "markdown",
      "source": [
        "loop example -> program to print the table\n"
      ],
      "metadata": {
        "id": "0ou2W2NTGRUC"
      }
    },
    {
      "cell_type": "code",
      "source": [
        "number = int(input('enter the number'))\n",
        "\n",
        "i = 1\n",
        "\n",
        "while i<11:\n",
        "  print(number,'*',i,'=',number * i)\n",
        "  i += 1"
      ],
      "metadata": {
        "id": "csahH72-GaOt",
        "outputId": "b5a322e4-c467-4184-f428-165fef1e3ef7",
        "colab": {
          "base_uri": "https://localhost:8080/"
        }
      },
      "execution_count": 2,
      "outputs": [
        {
          "output_type": "stream",
          "name": "stdout",
          "text": [
            "enter the number12\n",
            "12 * 1 = 12\n",
            "12 * 2 = 24\n",
            "12 * 3 = 36\n",
            "12 * 4 = 48\n",
            "12 * 5 = 60\n",
            "12 * 6 = 72\n",
            "12 * 7 = 84\n",
            "12 * 8 = 96\n",
            "12 * 9 = 108\n",
            "12 * 10 = 120\n"
          ]
        }
      ]
    },
    {
      "cell_type": "code",
      "source": [],
      "metadata": {
        "id": "Al811bzzGc-v"
      },
      "execution_count": null,
      "outputs": []
    },
    {
      "cell_type": "markdown",
      "source": [
        "Sum of all digits of a given number"
      ],
      "metadata": {
        "id": "LAtbmHi1Gm5t"
      }
    },
    {
      "cell_type": "code",
      "source": [
        "number = int(input(\"Enter the number: \"))\n",
        "\n",
        "sum=0\n",
        "while number>0:\n",
        "  i= number%10\n",
        "  sum=sum+i\n",
        "  number = number//10\n",
        "print(sum)"
      ],
      "metadata": {
        "id": "h05sui55GoMo",
        "outputId": "ca64afcb-fbb5-4630-bb80-b12a97843d24",
        "colab": {
          "base_uri": "https://localhost:8080/"
        }
      },
      "execution_count": 6,
      "outputs": [
        {
          "output_type": "stream",
          "name": "stdout",
          "text": [
            "Enter the number: 34\n",
            "7\n"
          ]
        }
      ]
    },
    {
      "cell_type": "markdown",
      "source": [
        "keep accepting numbers from users till he/she enters a 0 and then find the avg"
      ],
      "metadata": {
        "id": "GdrWPyJzHk5E"
      }
    },
    {
      "cell_type": "code",
      "source": [
        "number = int(input(\"Enter the number: \"))\n",
        "\n",
        "sum=0\n",
        "count=0\n",
        "while number!=0:\n",
        "  sum = sum+number\n",
        "  count=count+1\n",
        "  print(sum)\n",
        "  number = int(input(\"Enter the number\"))\n",
        "  if number==0:\n",
        "    break\n",
        "  print(sum/count)\n",
        "  print(\"The average is {}\",sum/count)"
      ],
      "metadata": {
        "id": "1xva5w2qHFCt",
        "outputId": "28c8b0b4-c279-4f4e-c0df-b2e5e5044893",
        "colab": {
          "base_uri": "https://localhost:8080/"
        }
      },
      "execution_count": 10,
      "outputs": [
        {
          "name": "stdout",
          "output_type": "stream",
          "text": [
            "Enter the number: 3\n",
            "3\n",
            "Enter the number4\n",
            "3.0\n",
            "The average is {} 3.0\n",
            "7\n",
            "Enter the number5\n",
            "3.5\n",
            "The average is {} 3.5\n",
            "12\n",
            "Enter the number0\n"
          ]
        }
      ]
    },
    {
      "cell_type": "markdown",
      "source": [
        "# limit example"
      ],
      "metadata": {
        "id": "KyTSmJyBJEfl"
      }
    },
    {
      "cell_type": "code",
      "source": [
        "i=0\n",
        "while i<5:\n",
        "  print(i)\n",
        "  i=i+1\n",
        "print(\"limit crossed\")"
      ],
      "metadata": {
        "id": "DVEjwhrDIH_9",
        "outputId": "203651a2-a15b-4b40-a629-065de37c3b94",
        "colab": {
          "base_uri": "https://localhost:8080/"
        }
      },
      "execution_count": 14,
      "outputs": [
        {
          "output_type": "stream",
          "name": "stdout",
          "text": [
            "0\n",
            "1\n",
            "2\n",
            "3\n",
            "4\n",
            "limit crossed\n"
          ]
        }
      ]
    },
    {
      "cell_type": "markdown",
      "source": [
        "# Guess game"
      ],
      "metadata": {
        "id": "2Y7gXXXHOuES"
      }
    },
    {
      "cell_type": "code",
      "source": [
        "import random\n",
        "jackpot =random.randint(1,100)\n",
        "\n",
        "guess = int(input(\"Guess the number: \"))\n",
        "counter=1\n",
        "while guess!=jackpot:\n",
        "  if guess < jackpot:\n",
        "    print(\"Guess Higher\")\n",
        "  else:\n",
        "    print(\"Guess Lower\")\n",
        "\n",
        "  guess=int(input(\"Guess the number: \"))\n",
        "  counter+=1\n",
        "else:\n",
        "  print(\"You guessed the right number\")\n",
        "  print(\"Total attempts: \",counter)"
      ],
      "metadata": {
        "id": "06079vhrJPyK",
        "outputId": "de5dd796-b708-43d2-f522-aa19bfbbe7bf",
        "colab": {
          "base_uri": "https://localhost:8080/"
        }
      },
      "execution_count": 37,
      "outputs": [
        {
          "output_type": "stream",
          "name": "stdout",
          "text": [
            "Guess the number: 50\n",
            "Guess Higher\n",
            "Guess the number: 70\n",
            "Guess Higher\n",
            "Guess the number: 90\n",
            "Guess Lower\n",
            "Guess the number: 80\n",
            "Guess Higher\n",
            "Guess the number: 85\n",
            "Guess Higher\n",
            "Guess the number: 89\n",
            "You guessed the right number\n",
            "Total attempts:  6\n"
          ]
        }
      ]
    },
    {
      "cell_type": "markdown",
      "source": [
        "# For loop"
      ],
      "metadata": {
        "id": "OQanF6PSXZw1"
      }
    },
    {
      "cell_type": "code",
      "source": [
        "for i in [1,2,3,4]:\n",
        "  print(i)"
      ],
      "metadata": {
        "id": "vfXf52mmWnJu",
        "outputId": "ae5d0dc0-e3b7-4ee2-eab3-c0b227c472ef",
        "colab": {
          "base_uri": "https://localhost:8080/"
        }
      },
      "execution_count": 8,
      "outputs": [
        {
          "output_type": "stream",
          "name": "stdout",
          "text": [
            "1\n",
            "2\n",
            "3\n",
            "4\n"
          ]
        }
      ]
    },
    {
      "cell_type": "markdown",
      "source": [
        "Program - The current population of a town is 10000. The population of the town is increasing at the rate of 10% per year. You have to write a program to find out the population at the end of each of the last 10 years."
      ],
      "metadata": {
        "id": "8yW0uTHoXnOx"
      }
    },
    {
      "cell_type": "code",
      "source": [
        "cur_pop = 10000\n",
        "\n",
        "for i in range(1,11):\n",
        "  cur_pop=cur_pop/1.1\n",
        "  print(i,cur_pop)"
      ],
      "metadata": {
        "id": "YGMd4GnMXfLn",
        "outputId": "d59625e6-99db-4d70-d325-806669cd2523",
        "colab": {
          "base_uri": "https://localhost:8080/"
        }
      },
      "execution_count": 13,
      "outputs": [
        {
          "output_type": "stream",
          "name": "stdout",
          "text": [
            "1 9090.90909090909\n",
            "2 8264.462809917353\n",
            "3 7513.148009015775\n",
            "4 6830.134553650703\n",
            "5 6209.213230591548\n",
            "6 5644.739300537771\n",
            "7 5131.5811823070635\n",
            "8 4665.07380209733\n",
            "9 4240.976183724845\n",
            "10 3855.4328942953134\n"
          ]
        }
      ]
    },
    {
      "cell_type": "markdown",
      "source": [
        "Sequence sum\n",
        "1/1! + 2/2! + 3/3! + ..."
      ],
      "metadata": {
        "id": "q-BrMzLOYUWl"
      }
    },
    {
      "cell_type": "code",
      "source": [
        "num = int(input(\"Enter the number:\"))\n",
        "\n",
        "result=0\n",
        "fact=1\n",
        "\n",
        "for i in range(1,num+1):\n",
        "  fact=fact*i\n",
        "  result = result+i/fact\n",
        "print(result)"
      ],
      "metadata": {
        "id": "TyRoMPePX-Bu",
        "outputId": "f7d44f61-ac82-400e-ff67-4662cf9bd736",
        "colab": {
          "base_uri": "https://localhost:8080/"
        }
      },
      "execution_count": 17,
      "outputs": [
        {
          "output_type": "stream",
          "name": "stdout",
          "text": [
            "Enter the number:3\n",
            "2.5\n"
          ]
        }
      ]
    },
    {
      "cell_type": "markdown",
      "source": [
        "Nested loops"
      ],
      "metadata": {
        "id": "swkaj-nT-xKB"
      }
    },
    {
      "cell_type": "code",
      "source": [
        "for i in range(1,5):\n",
        "  for j in range(1,5):\n",
        "    print(i,j)"
      ],
      "metadata": {
        "id": "cR2u4ifX-dHE",
        "outputId": "e0d532d8-4223-46cf-b4d9-6e5c84388196",
        "colab": {
          "base_uri": "https://localhost:8080/"
        }
      },
      "execution_count": 20,
      "outputs": [
        {
          "output_type": "stream",
          "name": "stdout",
          "text": [
            "1 1\n",
            "1 2\n",
            "1 3\n",
            "1 4\n",
            "2 1\n",
            "2 2\n",
            "2 3\n",
            "2 4\n",
            "3 1\n",
            "3 2\n",
            "3 3\n",
            "3 4\n",
            "4 1\n",
            "4 2\n",
            "4 3\n",
            "4 4\n"
          ]
        }
      ]
    },
    {
      "cell_type": "markdown",
      "source": [
        "Pattern 1\n",
        "*\n",
        "\n",
        "**\n",
        "\n",
        "***"
      ],
      "metadata": {
        "id": "w2mmjQZUBKS9"
      }
    },
    {
      "cell_type": "code",
      "source": [
        "n = int(input(\"Enter the number of rows: \"))\n",
        "\n",
        "for i in range(1,n+1):\n",
        "  for j in range(1,i+1):\n",
        "    print('*',end=' ')\n",
        "  print()"
      ],
      "metadata": {
        "id": "FmtFTyaZ_RXn",
        "outputId": "8de780b0-1214-4a35-9af2-dd986189f3d4",
        "colab": {
          "base_uri": "https://localhost:8080/"
        }
      },
      "execution_count": 25,
      "outputs": [
        {
          "output_type": "stream",
          "name": "stdout",
          "text": [
            "Enter the number of rows: 3\n",
            "* \n",
            "* * \n",
            "* * * \n"
          ]
        }
      ]
    },
    {
      "cell_type": "markdown",
      "source": [
        "Pattern 2\n",
        "\n",
        "1\n",
        "\n",
        "121\n",
        "\n",
        "12321\n",
        "\n",
        "1234321"
      ],
      "metadata": {
        "id": "r6jOqthUCwEB"
      }
    },
    {
      "cell_type": "code",
      "source": [
        "n = int(input(\"Enter the number of rows: \"))\n",
        "\n",
        "for i in range(1,n+1):\n",
        "  for j in range(1,i+1):\n",
        "    print(j,end=' ')\n",
        "  for k in range(i-1,0,-1):\n",
        "    print(k,end=' ')\n",
        "  print()"
      ],
      "metadata": {
        "id": "rZg_OOgmCBFC",
        "outputId": "31fb5a24-b199-4d55-f6f2-f5af78792a28",
        "colab": {
          "base_uri": "https://localhost:8080/"
        }
      },
      "execution_count": 32,
      "outputs": [
        {
          "output_type": "stream",
          "name": "stdout",
          "text": [
            "Enter the number of rows: 4\n",
            "1 \n",
            "1 2 1 \n",
            "1 2 3 2 1 \n",
            "1 2 3 4 3 2 1 \n"
          ]
        }
      ]
    },
    {
      "cell_type": "markdown",
      "source": [
        "Loop Control Statement\n",
        "1. Break\n",
        "2. Continue\n",
        "3. Pass"
      ],
      "metadata": {
        "id": "2Dus8C00FdW3"
      }
    },
    {
      "cell_type": "code",
      "source": [
        "for i in range(1,5):\n",
        "  if i==3:\n",
        "    break\n",
        "  print(i)"
      ],
      "metadata": {
        "id": "QmdHKv_pDc63",
        "outputId": "82f78acf-b2d6-4f4a-e9d5-e0460e9df5e4",
        "colab": {
          "base_uri": "https://localhost:8080/"
        }
      },
      "execution_count": 35,
      "outputs": [
        {
          "output_type": "stream",
          "name": "stdout",
          "text": [
            "1\n",
            "2\n"
          ]
        }
      ]
    },
    {
      "cell_type": "markdown",
      "source": [
        "Program- Find the prime number."
      ],
      "metadata": {
        "id": "s45XZma7KCuJ"
      }
    },
    {
      "cell_type": "code",
      "source": [
        "lower = int(input(\"Enter the lower number: \"))\n",
        "upper = int(input(\"Enter the upper number: \"))\n",
        "\n",
        "for i in range(lower,upper+1):\n",
        "  for j in range(2,i):\n",
        "    if i%j==0:\n",
        "      break\n",
        "  else:\n",
        "    print(i)"
      ],
      "metadata": {
        "id": "zHrBs80-Fonc",
        "outputId": "46f07611-e1d8-4daf-8c2c-ae6336f56386",
        "colab": {
          "base_uri": "https://localhost:8080/"
        }
      },
      "execution_count": 39,
      "outputs": [
        {
          "output_type": "stream",
          "name": "stdout",
          "text": [
            "Enter the lower number: 1\n",
            "Enter the upper number: 100\n",
            "1\n",
            "2\n",
            "3\n",
            "5\n",
            "7\n",
            "11\n",
            "13\n",
            "17\n",
            "19\n",
            "23\n",
            "29\n",
            "31\n",
            "37\n",
            "41\n",
            "43\n",
            "47\n",
            "53\n",
            "59\n",
            "61\n",
            "67\n",
            "71\n",
            "73\n",
            "79\n",
            "83\n",
            "89\n",
            "97\n"
          ]
        }
      ]
    },
    {
      "cell_type": "code",
      "source": [
        "# Continue\n",
        "\n",
        "for i in range(1,10):\n",
        "  if i==5:\n",
        "    continue\n",
        "  else:\n",
        "    print(i)"
      ],
      "metadata": {
        "id": "XX_kw5krYKjh",
        "outputId": "a52ec7f7-7261-450f-e5a7-3d5ea1a37c67",
        "colab": {
          "base_uri": "https://localhost:8080/"
        }
      },
      "execution_count": 40,
      "outputs": [
        {
          "output_type": "stream",
          "name": "stdout",
          "text": [
            "1\n",
            "2\n",
            "3\n",
            "4\n",
            "6\n",
            "7\n",
            "8\n",
            "9\n"
          ]
        }
      ]
    },
    {
      "cell_type": "code",
      "source": [],
      "metadata": {
        "id": "JtW4Zg0KY4l2"
      },
      "execution_count": null,
      "outputs": []
    }
  ]
}